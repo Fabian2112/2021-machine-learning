{
 "cells": [
  {
   "cell_type": "markdown",
   "metadata": {},
   "source": [
    "## Regresion logística\n",
    "\n",
    "Usando regresión para clasificar: se utiliza la función ligística (sigmoidea) para estimar la probabilidad de que una instancia pertenezca a una de dos clases.\n",
    "\n",
    "<img src=\"sigmoid.jpeg\" width=\"600px\" >\n",
    "\n",
    "\n",
    "<img src=\"probabilidad.jpeg\" width=\"400px\" >\n",
    "\n",
    "\n",
    "<img src=\"logpred.jpeg\" width=\"400px\" >\n",
    "\n",
    "\n",
    "\n",
    "\n"
   ]
  },
  {
   "cell_type": "markdown",
   "metadata": {},
   "source": [
    "Es un algoritmo de clasificación binaria.\n",
    "\n",
    "Para hacer predicciones para multiples clases utiliza One vs the Rest o la función softmax (multinomial).\n",
    "\n",
    "C es el parámetro de regularización (pero a la inversa) cuanto más grande C, menos regularización, cuanto más chico C, más regularización.\n",
    "\n",
    "Se puede dar la probabilidad de un caso con .predict_proba()"
   ]
  },
  {
   "cell_type": "code",
   "execution_count": 1,
   "metadata": {},
   "outputs": [],
   "source": [
    "import numpy as np\n",
    "import matplotlib.pyplot as plt\n",
    "from sklearn.datasets import load_iris"
   ]
  },
  {
   "cell_type": "code",
   "execution_count": null,
   "metadata": {},
   "outputs": [],
   "source": []
  },
  {
   "cell_type": "code",
   "execution_count": null,
   "metadata": {},
   "outputs": [],
   "source": []
  },
  {
   "cell_type": "markdown",
   "metadata": {},
   "source": [
    "**Parámetros**\n",
    "\n",
    "\n",
    "penalty  \n",
    "C  \n",
    "class_weight  \n",
    "solver  \n",
    "multiclass  "
   ]
  },
  {
   "cell_type": "code",
   "execution_count": null,
   "metadata": {},
   "outputs": [],
   "source": []
  },
  {
   "cell_type": "code",
   "execution_count": null,
   "metadata": {},
   "outputs": [],
   "source": []
  },
  {
   "cell_type": "markdown",
   "metadata": {},
   "source": [
    "### Multiclass:\n",
    "\n",
    "OvR \n",
    "\n",
    "One vs the Rest crea un clasificador para cada clase ajustando a esa clase contra el resto. Luego combina todos los clasificadores\n",
    "\n",
    "Función Softmax o multinomial\n",
    "\n",
    "Calcula la probabilidad de que pertenezca a cada clase con una exponencial normalizada.\n",
    "\n",
    "<img src=\"softmax.jpeg\" width=\"300px\" >\n",
    "\n",
    "La función de coste a minimizar es la de entropía cruzada"
   ]
  },
  {
   "cell_type": "code",
   "execution_count": null,
   "metadata": {},
   "outputs": [],
   "source": []
  },
  {
   "cell_type": "code",
   "execution_count": null,
   "metadata": {},
   "outputs": [],
   "source": []
  },
  {
   "cell_type": "code",
   "execution_count": null,
   "metadata": {},
   "outputs": [],
   "source": []
  },
  {
   "cell_type": "code",
   "execution_count": null,
   "metadata": {},
   "outputs": [],
   "source": []
  },
  {
   "cell_type": "code",
   "execution_count": null,
   "metadata": {},
   "outputs": [],
   "source": []
  },
  {
   "cell_type": "code",
   "execution_count": null,
   "metadata": {},
   "outputs": [],
   "source": []
  },
  {
   "cell_type": "code",
   "execution_count": null,
   "metadata": {},
   "outputs": [],
   "source": []
  },
  {
   "cell_type": "markdown",
   "metadata": {},
   "source": [
    "## Suport Vector Machine\n",
    "\n",
    "Es un clasificador lineal que intenta encontrar el borde que maximiza el margen de las dos clases\n",
    "\n",
    "Cuando tenemos dos clases linealmente separables hay muchas lineas que lo separan a la perfección, pero no generalizan bien\n",
    "\n",
    "<img src=\"lineal.jpeg\" width=\"400px\" >\n",
    "\n",
    "SVM intenta maximizar el margen. El resultado final depende solamente de los datos que están en el borde del margen, a los que se llama vectores de soporte.\n",
    "\n",
    "<img src=\"margen.jpeg\" width=\"600px\" >\n",
    "\n",
    "La forma básica de SVM no permite violaciones al margen (si los datos no son linealmente separables falla). A esta forma se la conoce como *hard margin classification*\n",
    "\n",
    "También existe otra forma que permite violaciones al margen: *soft margin classification*. Esta forma funciona aún cuando los datos no son linealmente separables. El margen se regula con el parametro C\n",
    "\n",
    "<img src=\"hard-soft.png\" width=\"600px\" >\n",
    "\n"
   ]
  },
  {
   "cell_type": "code",
   "execution_count": null,
   "metadata": {},
   "outputs": [],
   "source": []
  },
  {
   "cell_type": "code",
   "execution_count": null,
   "metadata": {},
   "outputs": [],
   "source": []
  },
  {
   "cell_type": "code",
   "execution_count": null,
   "metadata": {},
   "outputs": [],
   "source": []
  },
  {
   "cell_type": "code",
   "execution_count": null,
   "metadata": {},
   "outputs": [],
   "source": []
  },
  {
   "cell_type": "markdown",
   "metadata": {},
   "source": [
    "### Multiclass\n",
    "\n",
    "SVC es OvO  \n",
    "LinearSVC es OvR (setting multi_class=”ovr”)"
   ]
  },
  {
   "cell_type": "code",
   "execution_count": null,
   "metadata": {},
   "outputs": [],
   "source": []
  },
  {
   "cell_type": "code",
   "execution_count": null,
   "metadata": {},
   "outputs": [],
   "source": []
  },
  {
   "cell_type": "code",
   "execution_count": null,
   "metadata": {},
   "outputs": [],
   "source": []
  },
  {
   "cell_type": "code",
   "execution_count": null,
   "metadata": {},
   "outputs": [],
   "source": []
  },
  {
   "cell_type": "markdown",
   "metadata": {},
   "source": [
    "### Ajustes no lineales - Kernel trick\n",
    "\n",
    "Este truco permite hacer clasificaciones no\n",
    "<img src=\"kernels.jpeg\" width=\"500px\" >"
   ]
  },
  {
   "cell_type": "code",
   "execution_count": null,
   "metadata": {},
   "outputs": [],
   "source": []
  },
  {
   "cell_type": "markdown",
   "metadata": {},
   "source": [
    "### SVM para regresión\n",
    "\n",
    "Se intenta maximizar la cantidad de puntos que caen dentro del margen. Se pueden utilizar distintos kernels para modelos no lineales\n",
    "\n",
    "<img src=\"svmreg.jpeg\" width=\"600px\" >"
   ]
  },
  {
   "cell_type": "code",
   "execution_count": null,
   "metadata": {},
   "outputs": [],
   "source": []
  },
  {
   "cell_type": "code",
   "execution_count": null,
   "metadata": {},
   "outputs": [],
   "source": []
  },
  {
   "cell_type": "code",
   "execution_count": null,
   "metadata": {},
   "outputs": [],
   "source": []
  },
  {
   "cell_type": "code",
   "execution_count": null,
   "metadata": {},
   "outputs": [],
   "source": []
  },
  {
   "cell_type": "code",
   "execution_count": null,
   "metadata": {},
   "outputs": [],
   "source": []
  },
  {
   "cell_type": "code",
   "execution_count": null,
   "metadata": {},
   "outputs": [],
   "source": []
  }
 ],
 "metadata": {
  "kernelspec": {
   "display_name": "Python 3",
   "language": "python",
   "name": "python3"
  },
  "language_info": {
   "codemirror_mode": {
    "name": "ipython",
    "version": 3
   },
   "file_extension": ".py",
   "mimetype": "text/x-python",
   "name": "python",
   "nbconvert_exporter": "python",
   "pygments_lexer": "ipython3",
   "version": "3.8.2"
  }
 },
 "nbformat": 4,
 "nbformat_minor": 4
}
