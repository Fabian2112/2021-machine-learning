{
 "cells": [
  {
   "cell_type": "markdown",
   "metadata": {},
   "source": [
    "# Clase 2 - Clasificación\n",
    "\n",
    "## Algoritmos basados en instancias\n",
    "\n",
    "K Nearest Neighbors  -  Radius Neighbors\n",
    "\n",
    "<img src=\"vecinos.jpeg\" width=\"600px\" >\n",
    "\n",
    "\n"
   ]
  },
  {
   "cell_type": "code",
   "execution_count": 1,
   "metadata": {},
   "outputs": [],
   "source": [
    "import numpy as np\n",
    "import pandas as pd\n",
    "import matplotlib.pyplot as plt\n",
    "import seaborn as sns"
   ]
  },
  {
   "cell_type": "code",
   "execution_count": null,
   "metadata": {},
   "outputs": [],
   "source": []
  },
  {
   "cell_type": "code",
   "execution_count": null,
   "metadata": {},
   "outputs": [],
   "source": []
  },
  {
   "cell_type": "markdown",
   "metadata": {},
   "source": [
    "## Modelos generativos\n",
    "\n",
    "### Gaussian Naive Bayes\n",
    "\n",
    "Es un modelo probabilístico que asume condiciones muy sencillas (de ahí el *naive - ingenuo*) como la independencia de las variables y que todas tienen una distribución gaussiana\n",
    "\n",
    "<img src=\"campana.png\" width=\"500px\" >\n",
    "\n",
    "El modelo genera una distribución de probabilidad para cada categoría\n",
    "\n",
    "\n",
    "<img src=\"generativo.png\" width=\"500px\" >"
   ]
  },
  {
   "cell_type": "code",
   "execution_count": null,
   "metadata": {},
   "outputs": [],
   "source": []
  },
  {
   "cell_type": "code",
   "execution_count": null,
   "metadata": {},
   "outputs": [],
   "source": []
  },
  {
   "cell_type": "code",
   "execution_count": null,
   "metadata": {},
   "outputs": [],
   "source": []
  },
  {
   "cell_type": "markdown",
   "metadata": {},
   "source": [
    "### Árbol de decisión\n",
    "\n",
    "Va separando los datos en nuevos nodos de modo que luego de cada regla de separación aumenta el nivel de \"pureza\" de cada nodo. \n",
    "\n",
    "\n",
    "<img src=\"Decision_Tree1.png\" width=\"600px\" >\n",
    "\n",
    "El algoritmo continúa hasta que todos los datos quedan separados\n",
    "\n",
    "<img src=\"seleccion.png\" width=\"600px\" >"
   ]
  },
  {
   "cell_type": "code",
   "execution_count": null,
   "metadata": {},
   "outputs": [],
   "source": []
  },
  {
   "cell_type": "code",
   "execution_count": null,
   "metadata": {},
   "outputs": [],
   "source": []
  },
  {
   "cell_type": "code",
   "execution_count": null,
   "metadata": {},
   "outputs": [],
   "source": []
  },
  {
   "cell_type": "code",
   "execution_count": null,
   "metadata": {},
   "outputs": [],
   "source": []
  },
  {
   "cell_type": "markdown",
   "metadata": {},
   "source": [
    "### Overfitting\n",
    "\n",
    "Al continuar hasta la separacion total se puede caer en overfitting\n",
    "\n",
    "<img src=\"overfiting.png\" width=\"800px\" >\n",
    "\n",
    "Una forma de evitar el overfitting en árboles de decisión es \"podar\" el arbol, es decir, limitar la profundidad del arbol  o la pureza final de cada nodo."
   ]
  },
  {
   "cell_type": "code",
   "execution_count": null,
   "metadata": {},
   "outputs": [],
   "source": []
  },
  {
   "cell_type": "code",
   "execution_count": null,
   "metadata": {},
   "outputs": [],
   "source": []
  },
  {
   "cell_type": "code",
   "execution_count": null,
   "metadata": {},
   "outputs": [],
   "source": []
  },
  {
   "cell_type": "markdown",
   "metadata": {},
   "source": [
    "### Random Forest\n",
    "\n",
    "Esta técnica crea muchos árboles distintos tomando una porción de los datos al azar para cada uno. Luego toma el voto por la mayorís de los clasificadores para predecir la clase\n",
    "\n",
    "<img src=\"randomforest.png\" width=\"600px\" >"
   ]
  },
  {
   "cell_type": "code",
   "execution_count": null,
   "metadata": {},
   "outputs": [],
   "source": []
  },
  {
   "cell_type": "code",
   "execution_count": null,
   "metadata": {},
   "outputs": [],
   "source": []
  },
  {
   "cell_type": "code",
   "execution_count": null,
   "metadata": {},
   "outputs": [],
   "source": []
  },
  {
   "cell_type": "markdown",
   "metadata": {},
   "source": [
    "## Métricas\n",
    "\n",
    "<img src=\"confusionmatrix.jpeg\" width=\"400px\" >\n",
    "\n",
    "\n",
    "$$precision=\\frac{TP}{TP+FN}$$\n",
    "\n",
    "\n",
    "$$recall=\\frac{TP}{TP+FN}$$\n",
    "\n",
    "Se puede tener en cuenta ambas métricas haciendo un promedio, pero esto no sirve cuando la cantidad de las categorías están muy desequilibradas. Para eso se usa la media harmónica o *F1 score*\n",
    "\n",
    "\n",
    "$$F1=\\frac{2}{\\frac{1}{precision}+\\frac{1}{recall}} = \\frac{2 \\cdot precision\\cdot recall}{precision+ recall} = \\frac{TP}{TP + \\frac{FN+FP}{2}}  $$"
   ]
  },
  {
   "cell_type": "markdown",
   "metadata": {},
   "source": []
  },
  {
   "cell_type": "code",
   "execution_count": null,
   "metadata": {},
   "outputs": [],
   "source": []
  },
  {
   "cell_type": "code",
   "execution_count": null,
   "metadata": {},
   "outputs": [],
   "source": []
  },
  {
   "cell_type": "code",
   "execution_count": null,
   "metadata": {},
   "outputs": [],
   "source": []
  },
  {
   "cell_type": "code",
   "execution_count": null,
   "metadata": {},
   "outputs": [],
   "source": []
  },
  {
   "cell_type": "markdown",
   "metadata": {},
   "source": [
    "## Validación cruzada\n",
    "\n",
    "Nunca hay que ajustar nada de los modelos usando el test set, que debe ser invisible a nuestro análisis hasta el final. Para eso se usa *cross-validation*, que separa el test set en n partes iguales y utiliza n-1 partes como train set y la restante como test set, rotando todas las posibilidades"
   ]
  },
  {
   "cell_type": "markdown",
   "metadata": {},
   "source": []
  },
  {
   "cell_type": "code",
   "execution_count": null,
   "metadata": {},
   "outputs": [],
   "source": []
  }
 ],
 "metadata": {
  "kernelspec": {
   "display_name": "Python 3",
   "language": "python",
   "name": "python3"
  },
  "language_info": {
   "codemirror_mode": {
    "name": "ipython",
    "version": 3
   },
   "file_extension": ".py",
   "mimetype": "text/x-python",
   "name": "python",
   "nbconvert_exporter": "python",
   "pygments_lexer": "ipython3",
   "version": "3.8.2"
  }
 },
 "nbformat": 4,
 "nbformat_minor": 4
}
