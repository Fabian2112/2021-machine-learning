{
 "cells": [
  {
   "cell_type": "markdown",
   "metadata": {},
   "source": [
    "# Machine Learning\n",
    "*Ariel Thenon*\n",
    "\n",
    "\n",
    "El Machine Learning o Aprendizaje Automático es una rama de la inteligencia arctificial.\n",
    "\n",
    "Inteligencia artificial: algoritmo capaz de tomar decisiones que consideraríamos inteligentes\n",
    "\n",
    "## Definiciones \n",
    "\n",
    "Campo de estudio que da a las computadoras la habilidad de aprender sin haber sido explícitamente\n",
    "-Arthur Samuel, 1959\n",
    "\n",
    "Se dice que un programa aprende de la experiencia *E* con respecto a alguna tarea *T* y una medida de performance *P* si su rendimiento sobre *T*, medida por *P*, mejora con la experiencia *E* \n",
    "\n",
    "\n",
    "\n",
    "1- Un algoritmo que debe funcional como un filtro de spam\n",
    "\n",
    "- T:\n",
    "- P:\n",
    "- E:\n",
    "\n",
    "2- Un algoritmo que debe predecir el precio de propiedades\n",
    "\n",
    "\n",
    "- T:\n",
    "- P:\n",
    "- E:\n",
    "\n",
    "\n",
    "## Ejemplos\n",
    "\n",
    "- Detección de tumores en imágenes de rayos x\n",
    "- Detección de operaciones fraudulentas en tarjetas de crédito\n",
    "- Clasificación de productos en una línea de producción a través del análisis de imágenes\n",
    "- Segmentación de clientes\n",
    "- Sistemas de recomendación\n",
    "\n",
    "\n",
    "## Tipos de Machine Learning\n",
    "\n",
    "Por tipo de supervisión:\n",
    "- Supervisados\n",
    "- No supervisados\n",
    "\n",
    "Base de predicción:\n",
    "- Basado en instancias\n",
    "- Basado en modelos\n",
    "\n",
    "Flujo de datos:\n",
    "- Por lote\n",
    "- En línea\n",
    "\n",
    "\n",
    "#### Supervisados\n",
    "\n",
    "Los datos incluyen la solución:\n",
    "- Etiqueta: clasificación\n",
    "- Número: regresión\n",
    "\n",
    "#### No supervisados\n",
    "- Clustering\n",
    "- Reduccion de dimensionalidad\n",
    "- Detección de anomalías\n",
    "- Asociaciones \n",
    "\n",
    "\n",
    "\n",
    "\n",
    "## Qué vamos a usar\n",
    "\n",
    "- Python: lenguaje más utilizado para ciencia de datos y Machine Learning. Vamos a hacer uso de la distribución anaconda\n",
    " - Jupyter Notebook: entorno interactivo pensado para la exploración de datos y desarrollo de modelos\n",
    " - Numpy: módulo para manejo de arrays y cómputo optimizado\n",
    " - Pandas: manejo y exploración de datos\n",
    " - Matplotlib: gráficos\n",
    " - Scikitlearn: librería para machine learning\n",
    "- Algo de matemática \n"
   ]
  },
  {
   "cell_type": "markdown",
   "metadata": {},
   "source": [
    "## Repaso de Python\n",
    "\n"
   ]
  },
  {
   "cell_type": "code",
   "execution_count": null,
   "metadata": {},
   "outputs": [],
   "source": []
  },
  {
   "cell_type": "code",
   "execution_count": null,
   "metadata": {},
   "outputs": [],
   "source": []
  },
  {
   "cell_type": "markdown",
   "metadata": {},
   "source": [
    "## Repaso de Numpy"
   ]
  },
  {
   "cell_type": "code",
   "execution_count": null,
   "metadata": {},
   "outputs": [],
   "source": []
  },
  {
   "cell_type": "code",
   "execution_count": null,
   "metadata": {},
   "outputs": [],
   "source": []
  },
  {
   "cell_type": "code",
   "execution_count": null,
   "metadata": {},
   "outputs": [],
   "source": []
  },
  {
   "cell_type": "markdown",
   "metadata": {},
   "source": [
    "## Repaso de Pandas"
   ]
  },
  {
   "cell_type": "code",
   "execution_count": null,
   "metadata": {},
   "outputs": [],
   "source": []
  },
  {
   "cell_type": "code",
   "execution_count": null,
   "metadata": {},
   "outputs": [],
   "source": []
  },
  {
   "cell_type": "code",
   "execution_count": null,
   "metadata": {},
   "outputs": [],
   "source": []
  },
  {
   "cell_type": "markdown",
   "metadata": {},
   "source": [
    "## Repaso de Matplotlib"
   ]
  },
  {
   "cell_type": "code",
   "execution_count": null,
   "metadata": {},
   "outputs": [],
   "source": []
  },
  {
   "cell_type": "code",
   "execution_count": null,
   "metadata": {},
   "outputs": [],
   "source": []
  },
  {
   "cell_type": "code",
   "execution_count": null,
   "metadata": {},
   "outputs": [],
   "source": []
  },
  {
   "cell_type": "code",
   "execution_count": 2,
   "metadata": {},
   "outputs": [],
   "source": []
  },
  {
   "cell_type": "code",
   "execution_count": null,
   "metadata": {},
   "outputs": [],
   "source": []
  }
 ],
 "metadata": {
  "kernelspec": {
   "display_name": "Python 3",
   "language": "python",
   "name": "python3"
  },
  "language_info": {
   "codemirror_mode": {
    "name": "ipython",
    "version": 3
   },
   "file_extension": ".py",
   "mimetype": "text/x-python",
   "name": "python",
   "nbconvert_exporter": "python",
   "pygments_lexer": "ipython3",
   "version": "3.7.6"
  }
 },
 "nbformat": 4,
 "nbformat_minor": 4
}
