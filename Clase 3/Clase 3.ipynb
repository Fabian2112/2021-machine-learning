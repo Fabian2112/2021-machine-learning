{
 "cells": [
  {
   "cell_type": "markdown",
   "metadata": {
    "id": "WdARPmyO3pkD"
   },
   "source": [
    "# Clase 3\n"
   ]
  },
  {
   "cell_type": "markdown",
   "metadata": {},
   "source": [
    "## Validación\n",
    "\n",
    "<img src=\"validation.png\" width=\"600px\" >"
   ]
  },
  {
   "cell_type": "code",
   "execution_count": null,
   "metadata": {},
   "outputs": [],
   "source": []
  },
  {
   "cell_type": "markdown",
   "metadata": {},
   "source": [
    "## Cross Validation\n",
    "\n",
    "<img src=\"crossvalidation.png\" width=\"600px\" >"
   ]
  },
  {
   "cell_type": "code",
   "execution_count": null,
   "metadata": {},
   "outputs": [],
   "source": []
  },
  {
   "cell_type": "markdown",
   "metadata": {
    "id": "AyhShxtI3pkO"
   },
   "source": [
    "## Regresión\n",
    "\n",
    "<img src=\"fig1.jpeg\" width=\"600px\" >"
   ]
  },
  {
   "cell_type": "markdown",
   "metadata": {
    "id": "mlQ0lt--3pkP"
   },
   "source": [
    "<img src=\"fig2.jpeg\" width=\"600px\" >"
   ]
  },
  {
   "cell_type": "markdown",
   "metadata": {
    "id": "c4LFvrCL3pkQ"
   },
   "source": [
    "### Regresión lineal\n",
    "\n",
    "Se utiliza una ecuación lineal para modelar el problema\n",
    "\n",
    "<img src=\"eq1.jpeg\" width=\"300px\" >\n",
    "\n",
    "En su forma vectorizada se puede escribir como \n",
    "\n",
    "<img src=\"eq2.jpeg\" width=\"200px\" >"
   ]
  },
  {
   "cell_type": "code",
   "execution_count": 1,
   "metadata": {
    "executionInfo": {
     "elapsed": 622,
     "status": "ok",
     "timestamp": 1617808000237,
     "user": {
      "displayName": "CGFIUBA - Ariel Alegre",
      "photoUrl": "",
      "userId": "11498554542106200548"
     },
     "user_tz": 180
    },
    "id": "7PqnKgiV3pkQ"
   },
   "outputs": [],
   "source": []
  },
  {
   "cell_type": "markdown",
   "metadata": {
    "id": "Q0lPaMRY3pkR"
   },
   "source": [
    "##### Funcion de coste\n",
    "\n",
    "Se utiliza la Raiz del Error Cuadrático Medio. Es siempre convexa para el problema lineal\n",
    "\n",
    "<img src=\"eq3.jpeg\" width=\"300px\" >\n",
    "\n",
    "\n",
    "Sin embargo las operaciones se realizan con el error cuadrático medio porque su derivada es más sencilla y da el mismo resultado\n",
    "\n",
    "<img src=\"eq4.jpeg\" width=\"300px\" >\n",
    "\n",
    "\n",
    "Este es uno de los pocos problemas que se pueden resolver analíticamente\n",
    "\n",
    "<img src=\"img1.jpg\" width=\"600px\" >\n"
   ]
  },
  {
   "cell_type": "code",
   "execution_count": 2,
   "metadata": {
    "executionInfo": {
     "elapsed": 948,
     "status": "ok",
     "timestamp": 1617808000574,
     "user": {
      "displayName": "CGFIUBA - Ariel Alegre",
      "photoUrl": "",
      "userId": "11498554542106200548"
     },
     "user_tz": 180
    },
    "id": "4bn-Jt4I3pkS"
   },
   "outputs": [],
   "source": [
    "import numpy as np\n",
    "import matplotlib.pyplot as plt\n"
   ]
  },
  {
   "cell_type": "code",
   "execution_count": 2,
   "metadata": {
    "executionInfo": {
     "elapsed": 944,
     "status": "ok",
     "timestamp": 1617808000578,
     "user": {
      "displayName": "CGFIUBA - Ariel Alegre",
      "photoUrl": "",
      "userId": "11498554542106200548"
     },
     "user_tz": 180
    },
    "id": "ZUywOs5n3pkS"
   },
   "outputs": [],
   "source": []
  },
  {
   "cell_type": "code",
   "execution_count": 2,
   "metadata": {
    "executionInfo": {
     "elapsed": 942,
     "status": "ok",
     "timestamp": 1617808000585,
     "user": {
      "displayName": "CGFIUBA - Ariel Alegre",
      "photoUrl": "",
      "userId": "11498554542106200548"
     },
     "user_tz": 180
    },
    "id": "fEN_feYO3pkT"
   },
   "outputs": [],
   "source": []
  },
  {
   "cell_type": "code",
   "execution_count": 2,
   "metadata": {
    "executionInfo": {
     "elapsed": 935,
     "status": "ok",
     "timestamp": 1617808000586,
     "user": {
      "displayName": "CGFIUBA - Ariel Alegre",
      "photoUrl": "",
      "userId": "11498554542106200548"
     },
     "user_tz": 180
    },
    "id": "8uQnt-223pkT"
   },
   "outputs": [],
   "source": []
  },
  {
   "cell_type": "code",
   "execution_count": 2,
   "metadata": {
    "executionInfo": {
     "elapsed": 931,
     "status": "ok",
     "timestamp": 1617808000588,
     "user": {
      "displayName": "CGFIUBA - Ariel Alegre",
      "photoUrl": "",
      "userId": "11498554542106200548"
     },
     "user_tz": 180
    },
    "id": "pmbqZ23f3pkT"
   },
   "outputs": [],
   "source": []
  },
  {
   "cell_type": "code",
   "execution_count": 2,
   "metadata": {
    "executionInfo": {
     "elapsed": 927,
     "status": "ok",
     "timestamp": 1617808000590,
     "user": {
      "displayName": "CGFIUBA - Ariel Alegre",
      "photoUrl": "",
      "userId": "11498554542106200548"
     },
     "user_tz": 180
    },
    "id": "O3IWgDfX3pkT"
   },
   "outputs": [],
   "source": []
  },
  {
   "cell_type": "code",
   "execution_count": 2,
   "metadata": {
    "executionInfo": {
     "elapsed": 1457,
     "status": "ok",
     "timestamp": 1617808001126,
     "user": {
      "displayName": "CGFIUBA - Ariel Alegre",
      "photoUrl": "",
      "userId": "11498554542106200548"
     },
     "user_tz": 180
    },
    "id": "kiV8Vwnf3pkU"
   },
   "outputs": [],
   "source": []
  },
  {
   "cell_type": "markdown",
   "metadata": {
    "id": "kphwpRyK3pkU"
   },
   "source": [
    "## Descenso del gradiente \n",
    "\n",
    "<img src=\"fig3.jpeg\" width=\"600px\" >\n",
    "\n",
    "### Batch Gradient Descent\n",
    "\n",
    "El cómputo se realiza sobre la totalidad de los datos\n",
    "\n",
    "<img src=\"eq5.jpeg\" width=\"300px\" >"
   ]
  },
  {
   "cell_type": "markdown",
   "metadata": {
    "id": "POBRRGZa3pkU"
   },
   "source": [
    "<img src=\"fig4.jpeg\" width=\"600px\" >"
   ]
  },
  {
   "cell_type": "markdown",
   "metadata": {
    "id": "cJdNE5oy3pkV"
   },
   "source": [
    "<img src=\"fig5.png\" width=\"600px\" >"
   ]
  },
  {
   "cell_type": "markdown",
   "metadata": {
    "id": "t2zsbc-F3pkV"
   },
   "source": [
    "<img src=\"fig6.jpeg\" width=\"600px\" >"
   ]
  },
  {
   "cell_type": "code",
   "execution_count": null,
   "metadata": {
    "id": "1Y-_OSi_3pkV"
   },
   "outputs": [],
   "source": []
  },
  {
   "cell_type": "code",
   "execution_count": null,
   "metadata": {
    "id": "8OfeF06I3pkV"
   },
   "outputs": [],
   "source": []
  },
  {
   "cell_type": "code",
   "execution_count": null,
   "metadata": {
    "id": "LDt41dMB3pkW"
   },
   "outputs": [],
   "source": []
  },
  {
   "cell_type": "code",
   "execution_count": null,
   "metadata": {
    "id": "AbfJdphl3pkW"
   },
   "outputs": [],
   "source": []
  },
  {
   "cell_type": "code",
   "execution_count": null,
   "metadata": {
    "id": "bwAkBr6-3pkW"
   },
   "outputs": [],
   "source": []
  },
  {
   "cell_type": "code",
   "execution_count": null,
   "metadata": {
    "id": "_463qDCL3pkW"
   },
   "outputs": [],
   "source": []
  },
  {
   "cell_type": "markdown",
   "metadata": {
    "id": "gL0hgZFJ3pkW"
   },
   "source": [
    "#### Normalización\n",
    "\n",
    "<img src=\"fig7.jpeg\" width=\"600px\" >"
   ]
  },
  {
   "cell_type": "code",
   "execution_count": null,
   "metadata": {
    "id": "h5VDge-g3pkX"
   },
   "outputs": [],
   "source": []
  },
  {
   "cell_type": "code",
   "execution_count": null,
   "metadata": {
    "id": "1iyHsg6m3pkX"
   },
   "outputs": [],
   "source": []
  },
  {
   "cell_type": "code",
   "execution_count": null,
   "metadata": {
    "id": "6c6nltga3pkX"
   },
   "outputs": [],
   "source": []
  },
  {
   "cell_type": "code",
   "execution_count": null,
   "metadata": {
    "id": "rpVlEcxk3pkX"
   },
   "outputs": [],
   "source": []
  },
  {
   "cell_type": "code",
   "execution_count": null,
   "metadata": {
    "id": "2KOhi3JV3pkY"
   },
   "outputs": [],
   "source": []
  },
  {
   "cell_type": "markdown",
   "metadata": {
    "id": "QeQQJUTa3pkY"
   },
   "source": [
    "### Stochastic Gradient Descent\n",
    "\n",
    "Se calcula sobre un punto (elegido al azar) a la vez\n",
    "\n",
    "<img src=\"fig8.jpeg\" width=\"600px\" >"
   ]
  },
  {
   "cell_type": "markdown",
   "metadata": {
    "id": "ndTGp_HQ3pkY"
   },
   "source": [
    "### Mini Batch Gradient Descent\n",
    "\n",
    "Se calcula sobre porciones de los datos tomados al azar\n",
    "\n",
    "<img src=\"fig9.jpeg\" width=\"600px\" >"
   ]
  },
  {
   "cell_type": "markdown",
   "metadata": {
    "id": "TihGSA-n3pkY"
   },
   "source": [
    "## Regresión polinomial\n",
    "\n",
    "<img src=\"fig10.jpeg\" width=\"600px\" >"
   ]
  },
  {
   "cell_type": "markdown",
   "metadata": {
    "id": "SVCIlUsy3pkZ"
   },
   "source": [
    "<img src=\"fig11.jpeg\" width=\"600px\" >"
   ]
  },
  {
   "cell_type": "code",
   "execution_count": null,
   "metadata": {
    "id": "31SGiJTL3pkZ"
   },
   "outputs": [],
   "source": []
  },
  {
   "cell_type": "code",
   "execution_count": null,
   "metadata": {
    "id": "zd7E7gAF3pkZ"
   },
   "outputs": [],
   "source": []
  },
  {
   "cell_type": "code",
   "execution_count": null,
   "metadata": {
    "id": "qSzAEeLD3pkZ"
   },
   "outputs": [],
   "source": []
  },
  {
   "cell_type": "code",
   "execution_count": null,
   "metadata": {
    "id": "cSHKISRr3pkZ"
   },
   "outputs": [],
   "source": []
  },
  {
   "cell_type": "code",
   "execution_count": null,
   "metadata": {
    "id": "h3hzTYyS3pka"
   },
   "outputs": [],
   "source": []
  },
  {
   "cell_type": "code",
   "execution_count": null,
   "metadata": {
    "id": "CL8sRZsH3pka"
   },
   "outputs": [],
   "source": []
  },
  {
   "cell_type": "code",
   "execution_count": null,
   "metadata": {
    "id": "Hkwc0m-X3pka"
   },
   "outputs": [],
   "source": []
  },
  {
   "cell_type": "code",
   "execution_count": null,
   "metadata": {
    "id": "e2sV6kwz3pka"
   },
   "outputs": [],
   "source": []
  },
  {
   "cell_type": "code",
   "execution_count": null,
   "metadata": {
    "id": "eQla3ZM83pka"
   },
   "outputs": [],
   "source": []
  },
  {
   "cell_type": "markdown",
   "metadata": {
    "id": "dwJhR2lj3pka"
   },
   "source": [
    "### Overfitting\n",
    "\n",
    "<img src=\"fig12.jpeg\" width=\"600px\" >\n",
    "\n",
    "#### Regularización\n",
    "\n",
    "Agrega una penalización a los parámetros muy grandes\n",
    "\n",
    "##### Ridge Regression\n",
    "\n",
    "<img src=\"ridge.jpeg\" width=\"300px\" >\n",
    "\n",
    "\n",
    "##### Lasso Regression\n",
    "\n",
    "<img src=\"lasso.jpeg\" width=\"300px\" >"
   ]
  },
  {
   "cell_type": "code",
   "execution_count": null,
   "metadata": {
    "id": "fIK7VPit3pkb"
   },
   "outputs": [],
   "source": []
  },
  {
   "cell_type": "code",
   "execution_count": null,
   "metadata": {
    "id": "5MbzcJE23pkb"
   },
   "outputs": [],
   "source": []
  },
  {
   "cell_type": "code",
   "execution_count": null,
   "metadata": {
    "id": "YxU_3Uq23pkb"
   },
   "outputs": [],
   "source": []
  },
  {
   "cell_type": "code",
   "execution_count": null,
   "metadata": {
    "id": "Phc4Dps_3pkb"
   },
   "outputs": [],
   "source": []
  },
  {
   "cell_type": "code",
   "execution_count": null,
   "metadata": {
    "id": "Oo5e5HRt3pkc"
   },
   "outputs": [],
   "source": []
  },
  {
   "cell_type": "code",
   "execution_count": null,
   "metadata": {
    "id": "x2ZStD2x3pkc"
   },
   "outputs": [],
   "source": []
  },
  {
   "cell_type": "code",
   "execution_count": null,
   "metadata": {
    "id": "SorxP_wy3pkc"
   },
   "outputs": [],
   "source": []
  },
  {
   "cell_type": "code",
   "execution_count": null,
   "metadata": {
    "id": "CaIICEzp3pkc"
   },
   "outputs": [],
   "source": []
  },
  {
   "cell_type": "markdown",
   "metadata": {
    "id": "UszXn66o3pkc"
   },
   "source": [
    "#### Early stopping\n",
    "\n",
    "<img src=\"fig13.jpeg\" width=\"600px\" >"
   ]
  },
  {
   "cell_type": "markdown",
   "metadata": {
    "id": "nOHg5CV63pkd"
   },
   "source": []
  },
  {
   "cell_type": "markdown",
   "metadata": {
    "id": "MMFqZbmn3pkd"
   },
   "source": []
  },
  {
   "cell_type": "code",
   "execution_count": null,
   "metadata": {
    "id": "Yk3yJedL3pkd"
   },
   "outputs": [],
   "source": []
  },
  {
   "cell_type": "code",
   "execution_count": null,
   "metadata": {
    "id": "4-E2Ukd13pkd"
   },
   "outputs": [],
   "source": []
  },
  {
   "cell_type": "code",
   "execution_count": null,
   "metadata": {
    "id": "QqAecgDb3pkd"
   },
   "outputs": [],
   "source": []
  },
  {
   "cell_type": "code",
   "execution_count": null,
   "metadata": {
    "id": "xD0Pylbt3pke"
   },
   "outputs": [],
   "source": []
  },
  {
   "cell_type": "code",
   "execution_count": null,
   "metadata": {
    "id": "N98audjK3pke"
   },
   "outputs": [],
   "source": []
  },
  {
   "cell_type": "code",
   "execution_count": null,
   "metadata": {
    "id": "gWOzqPEs3pke"
   },
   "outputs": [],
   "source": []
  },
  {
   "cell_type": "code",
   "execution_count": null,
   "metadata": {
    "id": "Jup3EHMS3pke"
   },
   "outputs": [],
   "source": []
  }
 ],
 "metadata": {
  "colab": {
   "name": "Clase 3.ipynb",
   "provenance": []
  },
  "kernelspec": {
   "display_name": "Python 3",
   "language": "python",
   "name": "python3"
  },
  "language_info": {
   "codemirror_mode": {
    "name": "ipython",
    "version": 3
   },
   "file_extension": ".py",
   "mimetype": "text/x-python",
   "name": "python",
   "nbconvert_exporter": "python",
   "pygments_lexer": "ipython3",
   "version": "3.8.2"
  }
 },
 "nbformat": 4,
 "nbformat_minor": 1
}
